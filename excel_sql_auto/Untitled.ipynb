{
 "cells": [
  {
   "cell_type": "markdown",
   "metadata": {},
   "source": [
    "### I am trying to automate weekly pos txn data records upload from interswitch and visa (NG and RoA) which has always been hectic and unneccessarily time consuming.\n",
    "### challenge\n",
    "##### I need to be able pick the excel file based on some specified criteria eg. file name like, date modified betwen a date range ect."
   ]
  },
  {
   "cell_type": "code",
   "execution_count": 197,
   "metadata": {},
   "outputs": [],
   "source": [
    "import pyodbc\n",
    "import pandas as pd\n",
    "import numpy as np\n",
    "import os\n",
    "#from datetime import date"
   ]
  },
  {
   "cell_type": "code",
   "execution_count": 198,
   "metadata": {},
   "outputs": [
    {
     "data": {
      "text/plain": [
       "['.ipynb_checkpoints',\n",
       " 'Financial Sample.xlsx',\n",
       " 'financial_data_df.xlsx',\n",
       " 'Untitled.ipynb']"
      ]
     },
     "execution_count": 198,
     "metadata": {},
     "output_type": "execute_result"
    }
   ],
   "source": [
    "os.listdir()"
   ]
  },
  {
   "cell_type": "code",
   "execution_count": 191,
   "metadata": {},
   "outputs": [],
   "source": [
    "conn = pyodbc.connect('Driver={SQL Server};'\n",
    "                      'Server=DESKTOP-LHG2ON9;'\n",
    "                      'Database=WideWorldImporters;'\n",
    "                      'Trusted_Connection=yes;')\n",
    "\n",
    "cursor = conn.cursor()"
   ]
  },
  {
   "cell_type": "code",
   "execution_count": 192,
   "metadata": {},
   "outputs": [
    {
     "data": {
      "text/plain": [
       "{'Sheet1':        DEPOSIT      LOAN  TOTAL_INCOME       Date   Status\n",
       " 0     32370.00   16185.0      16185.00 2014-01-01  ACTIVE \n",
       " 1     26420.00   13210.0      13210.00 2014-01-01  ACTIVE \n",
       " 2     32670.00   21780.0      10890.00 2014-06-01  ACTIVE \n",
       " 3     13320.00    8880.0       4440.00 2014-06-01  ACTIVE \n",
       " 4     37050.00   24700.0      12350.00 2014-06-01  ACTIVE \n",
       " ..         ...       ...           ...        ...      ...\n",
       " 394   13027.20    7080.0       5947.20 2014-06-01  ACTIVE \n",
       " 395   18721.08   14535.0       4186.08 2014-06-01  ACTIVE \n",
       " 396   25134.40   13660.0      11474.40 2014-06-01  ACTIVE \n",
       " 397  678960.00  615000.0      63960.00 2014-06-01  ACTIVE \n",
       " 398   27968.00   15200.0      12768.00 2014-11-01  ACTIVE \n",
       " \n",
       " [399 rows x 5 columns],\n",
       " 'Sheet3':       DEPOSIT    LOAN  TOTAL_INCOME       Date   Status\n",
       " 0    14713.50    8655       6058.50 2019-11-24  DORMANT\n",
       " 1     6273.00    4920       1353.00 2019-11-25  DORMANT\n",
       " 2     4539.00    2670       1869.00 2019-11-26  DORMANT\n",
       " 3    14981.25   11750       3231.25 2019-11-27  DORMANT\n",
       " 4   313862.50  354480     -40617.50 2019-11-28  DORMANT\n",
       " ..        ...     ...           ...        ...      ...\n",
       " 72  146718.00  123500      23218.00 2020-09-04  ACTIVE \n",
       " 73  484060.50  363220     120840.50 2020-02-05  ACTIVE \n",
       " 74  746707.50  560300     186407.50 2020-09-06  ACTIVE \n",
       " 75   32877.90   22140      10737.90 2020-09-07  ACTIVE \n",
       " 76  683397.00  575250     108147.00 2020-09-07  ACTIVE \n",
       " \n",
       " [77 rows x 5 columns],\n",
       " 'Sheet2':        DEPOSIT      LOAN  TOTAL_INCOME       Date   Status\n",
       " 0      9811.80    7110.0       2701.80 2014-12-01  ACTIVE \n",
       " 1     15180.00    4125.0      11055.00 2013-12-01  ACTIVE \n",
       " 2    175260.00  158750.0      16510.00 2014-12-01  ACTIVE \n",
       " 3      8031.60    4365.0       3666.60 2014-07-01  ACTIVE \n",
       " 4    298662.00  273500.0      25162.00 2014-06-01  ACTIVE \n",
       " ..         ...       ...           ...        ...      ...\n",
       " 319   36031.50   28260.0       7771.50 2019-11-19  DORMANT\n",
       " 320   70443.75   79560.0      -9116.25 2019-11-20  DORMANT\n",
       " 321  656370.00  643500.0      12870.00 2019-11-21  DORMANT\n",
       " 322  259037.50  292560.0     -33522.50 2019-11-22  DORMANT\n",
       " 323    9322.80    2742.0       6580.80 2019-11-23  DORMANT\n",
       " \n",
       " [324 rows x 5 columns]}"
      ]
     },
     "execution_count": 192,
     "metadata": {},
     "output_type": "execute_result"
    }
   ],
   "source": [
    "##Bring In Excel files\n",
    "##SHEETNAME = NONE SO WE CAN BRING IN THE ALL SHEETS AT A GO\n",
    "financial_date_df = pd.read_excel('Financial Sample.xlsx', sheet_name=None)\n",
    "financial_date_df"
   ]
  },
  {
   "cell_type": "code",
   "execution_count": 195,
   "metadata": {},
   "outputs": [
    {
     "ename": "AttributeError",
     "evalue": "'dict' object has no attribute 'head'",
     "output_type": "error",
     "traceback": [
      "\u001b[1;31m---------------------------------------------------------------------------\u001b[0m",
      "\u001b[1;31mAttributeError\u001b[0m                            Traceback (most recent call last)",
      "\u001b[1;32m<ipython-input-195-6a3b70169187>\u001b[0m in \u001b[0;36m<module>\u001b[1;34m\u001b[0m\n\u001b[1;32m----> 1\u001b[1;33m \u001b[0mfinancial_date_df\u001b[0m\u001b[1;33m.\u001b[0m\u001b[0mhead\u001b[0m\u001b[1;33m(\u001b[0m\u001b[1;33m)\u001b[0m\u001b[1;33m\u001b[0m\u001b[1;33m\u001b[0m\u001b[0m\n\u001b[0m",
      "\u001b[1;31mAttributeError\u001b[0m: 'dict' object has no attribute 'head'"
     ]
    }
   ],
   "source": [
    "## I found out the output is not a dataframe, hence you has no attribute head and shape below.\n",
    "financial_date_df.head()"
   ]
  },
  {
   "cell_type": "code",
   "execution_count": 196,
   "metadata": {},
   "outputs": [
    {
     "ename": "AttributeError",
     "evalue": "'dict' object has no attribute 'shape'",
     "output_type": "error",
     "traceback": [
      "\u001b[1;31m---------------------------------------------------------------------------\u001b[0m",
      "\u001b[1;31mAttributeError\u001b[0m                            Traceback (most recent call last)",
      "\u001b[1;32m<ipython-input-196-3ef5170276f6>\u001b[0m in \u001b[0;36m<module>\u001b[1;34m\u001b[0m\n\u001b[1;32m----> 1\u001b[1;33m \u001b[0mfinancial_date_df\u001b[0m\u001b[1;33m.\u001b[0m\u001b[0mshape\u001b[0m\u001b[1;33m(\u001b[0m\u001b[1;33m)\u001b[0m\u001b[1;33m\u001b[0m\u001b[1;33m\u001b[0m\u001b[0m\n\u001b[0m",
      "\u001b[1;31mAttributeError\u001b[0m: 'dict' object has no attribute 'shape'"
     ]
    }
   ],
   "source": [
    "financial_date_df.shape()"
   ]
  },
  {
   "cell_type": "code",
   "execution_count": 193,
   "metadata": {},
   "outputs": [
    {
     "data": {
      "text/plain": [
       "dict"
      ]
     },
     "execution_count": 193,
     "metadata": {},
     "output_type": "execute_result"
    }
   ],
   "source": [
    "type(financial_date_df)"
   ]
  },
  {
   "cell_type": "code",
   "execution_count": 145,
   "metadata": {},
   "outputs": [
    {
     "name": "stdout",
     "output_type": "stream",
     "text": [
      "Sheet1 - (399, 5)\n",
      "Sheet3 - (77, 5)\n",
      "Sheet2 - (324, 5)\n"
     ]
    }
   ],
   "source": [
    "for sheet in financial_date_df:\n",
    "    print(f\"{sheet} - {financial_date_df[sheet].shape}\")"
   ]
  },
  {
   "cell_type": "code",
   "execution_count": 149,
   "metadata": {},
   "outputs": [
    {
     "data": {
      "text/plain": [
       "(800, 5)"
      ]
     },
     "execution_count": 149,
     "metadata": {},
     "output_type": "execute_result"
    }
   ],
   "source": [
    "all_sheets = pd.concat(financial_date_df)\n",
    "#Shape of Concatenated Sheets\n",
    "all_sheets.shape"
   ]
  },
  {
   "cell_type": "code",
   "execution_count": 176,
   "metadata": {},
   "outputs": [
    {
     "name": "stdout",
     "output_type": "stream",
     "text": [
      "2020-09-07 00:00:00\n",
      "2020-10-03 00:00:00\n"
     ]
    }
   ],
   "source": [
    "new_data_min_date = pd.to_datetime(all_sheets['Date'].max())\n",
    "today = pd.to_datetime(date.today())\n",
    "\n",
    "print(new_data_min_date)\n",
    "print(today)"
   ]
  },
  {
   "cell_type": "code",
   "execution_count": 177,
   "metadata": {},
   "outputs": [],
   "source": [
    "#GET MAX DATE FROM THE STAGING TABLE\n",
    "dest_table_max_date = pd.read_sql('SELECT max(Date) FROM Purchasing.FINANCIAL_DATA',conn)"
   ]
  },
  {
   "cell_type": "code",
   "execution_count": 185,
   "metadata": {},
   "outputs": [
    {
     "data": {
      "text/plain": [
       "Timestamp('2020-09-07 00:00:00')"
      ]
     },
     "execution_count": 185,
     "metadata": {},
     "output_type": "execute_result"
    }
   ],
   "source": [
    "#pd.to_datetime(dest_table_max_date)\n",
    "dest_table_max_date = pd.to_datetime(dest_table_max_date.stack()).item()\n",
    "dest_table_max_date"
   ]
  },
  {
   "cell_type": "markdown",
   "metadata": {},
   "source": [
    "#### With the below iF statemennt  am trying to confirm that the max_date in destination table is less than the min date in the source data before I wrap it arount the insert statement."
   ]
  },
  {
   "cell_type": "code",
   "execution_count": 186,
   "metadata": {},
   "outputs": [
    {
     "name": "stdout",
     "output_type": "stream",
     "text": [
      "continue\n"
     ]
    }
   ],
   "source": [
    "#pd.datetime(dest_table_max_date)\n",
    "\n",
    "if today > dest_table_max_date:\n",
    "    print('continue')\n",
    "else:\n",
    "    print('confirm you have most recent POS data')\n"
   ]
  },
  {
   "cell_type": "code",
   "execution_count": 108,
   "metadata": {},
   "outputs": [
    {
     "data": {
      "text/html": [
       "<div>\n",
       "<style scoped>\n",
       "    .dataframe tbody tr th:only-of-type {\n",
       "        vertical-align: middle;\n",
       "    }\n",
       "\n",
       "    .dataframe tbody tr th {\n",
       "        vertical-align: top;\n",
       "    }\n",
       "\n",
       "    .dataframe thead th {\n",
       "        text-align: right;\n",
       "    }\n",
       "</style>\n",
       "<table border=\"1\" class=\"dataframe\">\n",
       "  <thead>\n",
       "    <tr style=\"text-align: right;\">\n",
       "      <th></th>\n",
       "      <th></th>\n",
       "      <th>DEPOSIT</th>\n",
       "      <th>LOAN</th>\n",
       "      <th>TOTAL_INCOME</th>\n",
       "      <th>Date</th>\n",
       "      <th>Status</th>\n",
       "    </tr>\n",
       "  </thead>\n",
       "  <tbody>\n",
       "    <tr>\n",
       "      <th rowspan=\"5\" valign=\"top\">Sheet1</th>\n",
       "      <th>0</th>\n",
       "      <td>32370.0</td>\n",
       "      <td>16185.0</td>\n",
       "      <td>16185.0</td>\n",
       "      <td>2014-01-01</td>\n",
       "      <td>ACTIVE</td>\n",
       "    </tr>\n",
       "    <tr>\n",
       "      <th>1</th>\n",
       "      <td>26420.0</td>\n",
       "      <td>13210.0</td>\n",
       "      <td>13210.0</td>\n",
       "      <td>2014-01-01</td>\n",
       "      <td>ACTIVE</td>\n",
       "    </tr>\n",
       "    <tr>\n",
       "      <th>2</th>\n",
       "      <td>32670.0</td>\n",
       "      <td>21780.0</td>\n",
       "      <td>10890.0</td>\n",
       "      <td>2014-06-01</td>\n",
       "      <td>ACTIVE</td>\n",
       "    </tr>\n",
       "    <tr>\n",
       "      <th>3</th>\n",
       "      <td>13320.0</td>\n",
       "      <td>8880.0</td>\n",
       "      <td>4440.0</td>\n",
       "      <td>2014-06-01</td>\n",
       "      <td>ACTIVE</td>\n",
       "    </tr>\n",
       "    <tr>\n",
       "      <th>4</th>\n",
       "      <td>37050.0</td>\n",
       "      <td>24700.0</td>\n",
       "      <td>12350.0</td>\n",
       "      <td>2014-06-01</td>\n",
       "      <td>ACTIVE</td>\n",
       "    </tr>\n",
       "  </tbody>\n",
       "</table>\n",
       "</div>"
      ],
      "text/plain": [
       "          DEPOSIT     LOAN  TOTAL_INCOME       Date   Status\n",
       "Sheet1 0  32370.0  16185.0       16185.0 2014-01-01  ACTIVE \n",
       "       1  26420.0  13210.0       13210.0 2014-01-01  ACTIVE \n",
       "       2  32670.0  21780.0       10890.0 2014-06-01  ACTIVE \n",
       "       3  13320.0   8880.0        4440.0 2014-06-01  ACTIVE \n",
       "       4  37050.0  24700.0       12350.0 2014-06-01  ACTIVE "
      ]
     },
     "execution_count": 108,
     "metadata": {},
     "output_type": "execute_result"
    }
   ],
   "source": [
    "all_sheets.head()"
   ]
  },
  {
   "cell_type": "code",
   "execution_count": 117,
   "metadata": {},
   "outputs": [
    {
     "data": {
      "text/html": [
       "<div>\n",
       "<style scoped>\n",
       "    .dataframe tbody tr th:only-of-type {\n",
       "        vertical-align: middle;\n",
       "    }\n",
       "\n",
       "    .dataframe tbody tr th {\n",
       "        vertical-align: top;\n",
       "    }\n",
       "\n",
       "    .dataframe thead th {\n",
       "        text-align: right;\n",
       "    }\n",
       "</style>\n",
       "<table border=\"1\" class=\"dataframe\">\n",
       "  <thead>\n",
       "    <tr style=\"text-align: right;\">\n",
       "      <th></th>\n",
       "      <th></th>\n",
       "      <th>DEPOSIT</th>\n",
       "      <th>LOAN</th>\n",
       "      <th>TOTAL_INCOME</th>\n",
       "      <th>Date</th>\n",
       "      <th>Status</th>\n",
       "    </tr>\n",
       "  </thead>\n",
       "  <tbody>\n",
       "    <tr>\n",
       "      <th rowspan=\"5\" valign=\"top\">Sheet2</th>\n",
       "      <th>319</th>\n",
       "      <td>36031.50</td>\n",
       "      <td>28260.0</td>\n",
       "      <td>7771.50</td>\n",
       "      <td>2019-11-19</td>\n",
       "      <td>DORMANT</td>\n",
       "    </tr>\n",
       "    <tr>\n",
       "      <th>320</th>\n",
       "      <td>70443.75</td>\n",
       "      <td>79560.0</td>\n",
       "      <td>-9116.25</td>\n",
       "      <td>2019-11-20</td>\n",
       "      <td>DORMANT</td>\n",
       "    </tr>\n",
       "    <tr>\n",
       "      <th>321</th>\n",
       "      <td>656370.00</td>\n",
       "      <td>643500.0</td>\n",
       "      <td>12870.00</td>\n",
       "      <td>2019-11-21</td>\n",
       "      <td>DORMANT</td>\n",
       "    </tr>\n",
       "    <tr>\n",
       "      <th>322</th>\n",
       "      <td>259037.50</td>\n",
       "      <td>292560.0</td>\n",
       "      <td>-33522.50</td>\n",
       "      <td>2019-11-22</td>\n",
       "      <td>DORMANT</td>\n",
       "    </tr>\n",
       "    <tr>\n",
       "      <th>323</th>\n",
       "      <td>9322.80</td>\n",
       "      <td>2742.0</td>\n",
       "      <td>6580.80</td>\n",
       "      <td>2019-11-23</td>\n",
       "      <td>DORMANT</td>\n",
       "    </tr>\n",
       "  </tbody>\n",
       "</table>\n",
       "</div>"
      ],
      "text/plain": [
       "              DEPOSIT      LOAN  TOTAL_INCOME       Date   Status\n",
       "Sheet2 319   36031.50   28260.0       7771.50 2019-11-19  DORMANT\n",
       "       320   70443.75   79560.0      -9116.25 2019-11-20  DORMANT\n",
       "       321  656370.00  643500.0      12870.00 2019-11-21  DORMANT\n",
       "       322  259037.50  292560.0     -33522.50 2019-11-22  DORMANT\n",
       "       323    9322.80    2742.0       6580.80 2019-11-23  DORMANT"
      ]
     },
     "execution_count": 117,
     "metadata": {},
     "output_type": "execute_result"
    }
   ],
   "source": [
    "all_sheets.tail()"
   ]
  },
  {
   "cell_type": "code",
   "execution_count": 118,
   "metadata": {},
   "outputs": [
    {
     "data": {
      "text/plain": [
       "Index(['DEPOSIT', 'LOAN', 'TOTAL_INCOME', 'Date', 'Status'], dtype='object')"
      ]
     },
     "execution_count": 118,
     "metadata": {},
     "output_type": "execute_result"
    }
   ],
   "source": [
    "all_sheets.columns"
   ]
  },
  {
   "cell_type": "code",
   "execution_count": 119,
   "metadata": {},
   "outputs": [],
   "source": [
    "#Export the dataframe t excel\n",
    "all_sheets.to_excel(r'C:\\Users\\Dinma\\Desktop\\pyhton_sql\\financial_data_df.xlsx', sheet_name='uth_test_1', index = False)"
   ]
  },
  {
   "cell_type": "raw",
   "metadata": {},
   "source": [
    "##CREATE TABLE STATEMENT COMMENTED OUT BECAUSE WE ONLY NEED TO CREATE THE TABLE ONCE\n",
    "cursor.execute('''\n",
    "\n",
    "               CREATE TABLE Purchasing.FINANCIAL_DATA\n",
    "               (\n",
    "               DEPOSIT int,\n",
    "               LOAN int,\n",
    "               TOTAL_INCOME int,\n",
    "               Date date,\n",
    "               Status nvarchar(50)\n",
    "               )\n",
    "\n",
    "               ''')\n",
    "\n",
    "conn.commit()"
   ]
  },
  {
   "cell_type": "code",
   "execution_count": 114,
   "metadata": {},
   "outputs": [],
   "source": [
    "#Drop Table\n",
    "#cursor.execute(''' DROP TABLE Purchasing.FINANCIAL_DATA ''')  \n",
    "#conn.commit()"
   ]
  },
  {
   "cell_type": "code",
   "execution_count": 116,
   "metadata": {},
   "outputs": [],
   "source": [
    "#Insert Statement\n",
    "for index, row in all_sheets.iterrows():\n",
    "    cursor.execute(\"INSERT INTO Purchasing.FINANCIAL_DATA (DEPOSIT, LOAN, TOTAL_INCOME, Date, Status) \n",
    "                   values(?,?,?,?,?)\", row. DEPOSIT, row.LOAN, row.TOTAL_INCOME, row.Date, row.Status)\n",
    "conn.commit()"
   ]
  },
  {
   "cell_type": "code",
   "execution_count": 120,
   "metadata": {},
   "outputs": [],
   "source": [
    "cursor.close()"
   ]
  },
  {
   "cell_type": "code",
   "execution_count": null,
   "metadata": {},
   "outputs": [],
   "source": []
  }
 ],
 "metadata": {
  "kernelspec": {
   "display_name": "Python 3",
   "language": "python",
   "name": "python3"
  },
  "language_info": {
   "codemirror_mode": {
    "name": "ipython",
    "version": 3
   },
   "file_extension": ".py",
   "mimetype": "text/x-python",
   "name": "python",
   "nbconvert_exporter": "python",
   "pygments_lexer": "ipython3",
   "version": "3.8.3"
  }
 },
 "nbformat": 4,
 "nbformat_minor": 2
}
