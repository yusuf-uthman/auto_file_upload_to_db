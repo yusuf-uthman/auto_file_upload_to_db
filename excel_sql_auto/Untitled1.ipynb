{
 "cells": [
  {
   "cell_type": "code",
   "execution_count": 19,
   "metadata": {},
   "outputs": [],
   "source": [
    "import pyodbc\n",
    "import pandas as pd\n",
    "import numpy as np\n",
    "import os\n",
    "import glob\n",
    "#from datetime import date"
   ]
  },
  {
   "cell_type": "code",
   "execution_count": 20,
   "metadata": {},
   "outputs": [
    {
     "data": {
      "text/plain": [
       "['.ipynb_checkpoints',\n",
       " 'Financial Sample.xlsx',\n",
       " 'financial_data_df.xlsx',\n",
       " 'marley.txt',\n",
       " 'test_data.csv',\n",
       " 'Untitled.html',\n",
       " 'Untitled.ipynb',\n",
       " 'Untitled1.ipynb']"
      ]
     },
     "execution_count": 20,
     "metadata": {},
     "output_type": "execute_result"
    }
   ],
   "source": [
    "os.listdir()"
   ]
  },
  {
   "cell_type": "code",
   "execution_count": 21,
   "metadata": {},
   "outputs": [
    {
     "name": "stdout",
     "output_type": "stream",
     "text": [
      "C:\\Users\\Dinma\\Desktop\\pyhton_sql\\Financial Sample.xlsx\n",
      "C:\\Users\\Dinma\\Desktop\\pyhton_sql\\financial_data_df.xlsx\n"
     ]
    }
   ],
   "source": [
    "directory = r'C:\\Users\\Dinma\\Desktop\\pyhton_sql'\n",
    "for filename in os.listdir(directory):\n",
    "    if filename.endswith(\".jpg\") or filename.endswith(\".xlsx\"):\n",
    "        print(os.path.join(directory, filename))\n",
    "    else:\n",
    "        continue"
   ]
  },
  {
   "cell_type": "code",
   "execution_count": 25,
   "metadata": {},
   "outputs": [
    {
     "name": "stdout",
     "output_type": "stream",
     "text": [
      "C:\\Users\\Dinma\\Desktop\\pyhton_sql\\Financial Sample.xlsx\n",
      "C:\\Users\\Dinma\\Desktop\\pyhton_sql\\financial_data_df.xlsx\n",
      "C:\\Users\\Dinma\\Desktop\\pyhton_sql\\test_data.csv\n"
     ]
    }
   ],
   "source": [
    "##directory = r'C:\\Users\\admin'\n",
    "for entry in os.scandir(directory):\n",
    "    if (entry.path.endswith(\".xlsx\")\n",
    "            or entry.path.endswith(\".csv\")):## and entry.is_file():\n",
    "        print(entry.path)"
   ]
  },
  {
   "cell_type": "code",
   "execution_count": null,
   "metadata": {},
   "outputs": [],
   "source": []
  },
  {
   "cell_type": "code",
   "execution_count": null,
   "metadata": {},
   "outputs": [],
   "source": []
  },
  {
   "cell_type": "code",
   "execution_count": null,
   "metadata": {},
   "outputs": [],
   "source": []
  }
 ],
 "metadata": {
  "kernelspec": {
   "display_name": "Python 3",
   "language": "python",
   "name": "python3"
  },
  "language_info": {
   "codemirror_mode": {
    "name": "ipython",
    "version": 3
   },
   "file_extension": ".py",
   "mimetype": "text/x-python",
   "name": "python",
   "nbconvert_exporter": "python",
   "pygments_lexer": "ipython3",
   "version": "3.8.3"
  }
 },
 "nbformat": 4,
 "nbformat_minor": 4
}
